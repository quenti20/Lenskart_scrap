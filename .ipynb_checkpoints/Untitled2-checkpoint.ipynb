{
 "cells": [
  {
   "cell_type": "code",
   "execution_count": 4,
   "id": "811642a3-a2c4-4bc9-8242-90d8a6f83d13",
   "metadata": {},
   "outputs": [],
   "source": [
    "import pandas as pd\n",
    "\n",
    "df = pd.read_csv('./product_detail.csv')\n",
    "df.head()"
   ]
  },
  {
   "cell_type": "code",
   "execution_count": 10,
   "id": "24050b16-1c00-451f-a8f0-016b770b51c1",
   "metadata": {},
   "outputs": [
    {
     "data": {
      "text/plain": [
       "4640"
      ]
     },
     "execution_count": 10,
     "metadata": {},
     "output_type": "execute_result"
    }
   ],
   "source": [
    "product_ids = df['id'].tolist()\n",
    "len(product_ids)"
   ]
  },
  {
   "cell_type": "code",
   "execution_count": null,
   "id": "849d0866-59f6-4ddd-b581-427e74c0967b",
   "metadata": {},
   "outputs": [],
   "source": [
    "\n",
    "import requests\n",
    "\n",
    "# Array of product IDs\n",
    "product_id = product_ids  # Add more product IDs as needed\n",
    "\n",
    "# Initialize an empty list to store DataFrames\n",
    "dfs = []\n",
    "\n",
    "# Iterate over each product ID\n",
    "for product_id in product_id:\n",
    "    # Initialize an empty list to store DataFrames for each product ID\n",
    "    product_dfs = []\n",
    "\n",
    "    # Iterate over the range from 0 to 15 (16 exclusive)\n",
    "    for i in range(1):\n",
    "        url = f'https://api-gateway.juno.lenskart.com/v2/products/product/{product_id}/review?count=10&page={i}'\n",
    "        \n",
    "        # Make a GET request to the API\n",
    "        res = requests.get(url)\n",
    "        \n",
    "        # Check if the request was successful (status code 200)\n",
    "        if res.status_code == 200:\n",
    "            # Parse JSON response\n",
    "            data = res.json()\n",
    "            \n",
    "            # Extract reviews\n",
    "            reviews = data[\"result\"][\"review\"][\"reviews\"]\n",
    "            \n",
    "            # Create a DataFrame from the reviews data\n",
    "            df = pd.DataFrame(reviews)\n",
    "            \n",
    "            # Append the product_id column\n",
    "            df['product_id'] = product_id\n",
    "            \n",
    "            # Append the current DataFrame to the product-specific list\n",
    "            product_dfs.append(df)\n",
    "    \n",
    "    # Concatenate all DataFrames for the current product ID into a single DataFrame\n",
    "    #product_df = pd.concat(product_dfs, ignore_index=True)\n",
    "    \n",
    "    # Append the product-specific DataFrame to the overall list\n",
    "    dfs.append(product_dfs)\n",
    "\n",
    "# Concatenate all DataFrames in the list into a single DataFrame\n",
    "all_reviews_df = pd.concat(dfs, ignore_index=True)\n",
    "\n",
    "# Display the first few rows of the combined DataFrame\n",
    "print(all_reviews_df.head())"
   ]
  },
  {
   "cell_type": "code",
   "execution_count": null,
   "id": "78d8d708-793b-4acd-ba6f-ccba7431bfb2",
   "metadata": {},
   "outputs": [],
   "source": []
  }
 ],
 "metadata": {
  "kernelspec": {
   "display_name": "Python 3 (ipykernel)",
   "language": "python",
   "name": "python3"
  },
  "language_info": {
   "codemirror_mode": {
    "name": "ipython",
    "version": 3
   },
   "file_extension": ".py",
   "mimetype": "text/x-python",
   "name": "python",
   "nbconvert_exporter": "python",
   "pygments_lexer": "ipython3",
   "version": "3.10.6"
  }
 },
 "nbformat": 4,
 "nbformat_minor": 5
}
